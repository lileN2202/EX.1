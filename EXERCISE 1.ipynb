{
 "cells": [
  {
   "cell_type": "markdown",
   "id": "c30e0401",
   "metadata": {},
   "source": [
    "### QUESTION 1\n"
   ]
  },
  {
   "cell_type": "code",
   "execution_count": 37,
   "id": "5d56631d",
   "metadata": {},
   "outputs": [
    {
     "name": "stdout",
     "output_type": "stream",
     "text": [
      "Guess the number (between 1 and 100): 44\n",
      "Your guess is too high. Try again.\n",
      "Guess the number (between 1 and 100): 40\n",
      "Your guess is too high. Try again.\n",
      "Guess the number (between 1 and 100): 30\n",
      "Your guess is too high. Try again.\n",
      "Guess the number (between 1 and 100): 20\n",
      "Your guess is too high. Try again.\n",
      "Guess the number (between 1 and 100): 10\n",
      "Your guess is too high. Try again.\n",
      "Guess the number (between 1 and 100): 1\n",
      "Your guess is too low. Try again.\n",
      "Guess the number (between 1 and 100): 5\n",
      "Your guess is too high. Try again.\n",
      "Guess the number (between 1 and 100): 4\n",
      "Congratulations! You guessed the correct number: 4\n",
      "Guesses made have been saved to 'guesses.txt'\n"
     ]
    }
   ],
   "source": [
    "import random\n",
    "\n",
    "secret_number = random.randint(1, 100)\n",
    "\n",
    "guesses = []\n",
    "\n",
    "while True:\n",
    "    try:\n",
    "        guess = int(input(\"Guess the number (between 1 and 100): \"))\n",
    "        guesses.append(guess)\n",
    "        \n",
    "        if guess < secret_number:\n",
    "            print(\"Your guess is too low. Try again.\")\n",
    "        elif guess > secret_number:\n",
    "            print(\"Your guess is too high. Try again.\")\n",
    "        else:\n",
    "            print(f\"Congratulations! You guessed the correct number: {secret_number}\")\n",
    "            break  \n",
    "    except ValueError:\n",
    "        print(\"Invalid input. Please enter a valid number.\")\n",
    "        \n",
    "with open(\"guesses.txt\", \"w\") as g:\n",
    "    g.write(\"List of guesses:\\n\")\n",
    "    for guess in guesses:\n",
    "        g.write(str(guess) + \"\\n\")\n",
    "\n",
    "print(\"Guesses made have been saved to 'guesses.txt'\")\n"
   ]
  },
  {
   "cell_type": "code",
   "execution_count": null,
   "id": "9679ebe1",
   "metadata": {},
   "outputs": [],
   "source": []
  },
  {
   "cell_type": "markdown",
   "id": "d8253c81",
   "metadata": {},
   "source": [
    "### QUESTION 2"
   ]
  },
  {
   "cell_type": "code",
   "execution_count": 38,
   "id": "06522150",
   "metadata": {},
   "outputs": [
    {
     "name": "stdout",
     "output_type": "stream",
     "text": [
      "Enter any number: l\n",
      "Invalid input. Please enter a valid number.\n",
      "Enter any number: 5\n",
      "Chosen number does not belong to any list\n",
      "Enter any number: 3\n",
      "Chosen number does not belong to any list\n",
      "Enter any number: 6\n",
      "Chosen number belong to second list\n",
      "[56, 84, 116, 36, 20, 96, 28, 14, 12, 68, 126, 78, 150, 32, 140, 120, 4, 16, 90, 146, 58, 122, 108, 102, 38, 42, 6, 34, 70, 104, 26, 10, 98, 112, 80, 2, 100, 148]\n"
     ]
    }
   ],
   "source": [
    "import random\n",
    "\n",
    "numbers = list(range(0, 151, 2))\n",
    "\n",
    "random.shuffle(numbers)\n",
    "\n",
    "first_list = numbers[:len(numbers) // 2]\n",
    "second_list = numbers[len(numbers) // 2:]\n",
    "\n",
    "\n",
    "while True:\n",
    "    try:\n",
    "        user_input = int(input(\"Enter any number: \"))\n",
    "        \n",
    "        if user_input in first_list:\n",
    "            print(\"Chosen number belong to first list\")\n",
    "            print(first_list)\n",
    "            break\n",
    "        elif user_input in second_list:\n",
    "            print(\"Chosen number belong to second list\")\n",
    "            print(second_list)\n",
    "            break\n",
    "        else:\n",
    "            print(\"Chosen number does not belong to any list\")\n",
    "        \n",
    "    except ValueError:\n",
    "            print(\"Invalid input. Please enter a valid number.\")"
   ]
  },
  {
   "cell_type": "code",
   "execution_count": null,
   "id": "460ca8ea",
   "metadata": {},
   "outputs": [],
   "source": []
  },
  {
   "cell_type": "code",
   "execution_count": null,
   "id": "cbce35ee",
   "metadata": {},
   "outputs": [],
   "source": []
  }
 ],
 "metadata": {
  "kernelspec": {
   "display_name": "Python 3 (ipykernel)",
   "language": "python",
   "name": "python3"
  },
  "language_info": {
   "codemirror_mode": {
    "name": "ipython",
    "version": 3
   },
   "file_extension": ".py",
   "mimetype": "text/x-python",
   "name": "python",
   "nbconvert_exporter": "python",
   "pygments_lexer": "ipython3",
   "version": "3.11.1"
  }
 },
 "nbformat": 4,
 "nbformat_minor": 5
}
